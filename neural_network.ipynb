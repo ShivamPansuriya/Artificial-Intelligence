{
  "nbformat": 4,
  "nbformat_minor": 0,
  "metadata": {
    "colab": {
      "provenance": []
    },
    "kernelspec": {
      "name": "python3",
      "display_name": "Python 3"
    },
    "language_info": {
      "name": "python"
    },
    "accelerator": "GPU",
    "gpuClass": "standard"
  },
  "cells": [
    {
      "cell_type": "code",
      "execution_count": null,
      "metadata": {
        "colab": {
          "base_uri": "https://localhost:8080/"
        },
        "id": "JD_sTp2Ch48z",
        "outputId": "8f106a2c-5c6a-4bcf-c62e-201cccc15d34"
      },
      "outputs": [
        {
          "output_type": "stream",
          "name": "stdout",
          "text": [
            "Mounted at /content/drive\n"
          ]
        }
      ],
      "source": [
        "from google.colab import drive\n",
        "drive.mount('/content/drive')"
      ]
    },
    {
      "cell_type": "code",
      "source": [
        "import numpy as np\n",
        "import pandas as pd\n",
        "import seaborn as sns\n",
        "import matplotlib.pyplot as plt\n",
        "import tensorflow as tf\n",
        "from keras.models import Sequential\n",
        "from keras.layers import Dense"
      ],
      "metadata": {
        "id": "hMIviBT0qTnk"
      },
      "execution_count": null,
      "outputs": []
    },
    {
      "cell_type": "code",
      "source": [
        "data =pd.read_csv(\"/content/Class_heart_attack.csv\")\n",
        "data.head()"
      ],
      "metadata": {
        "colab": {
          "base_uri": "https://localhost:8080/",
          "height": 212
        },
        "id": "WQgCbtOnsaRV",
        "outputId": "e7cdb3e8-74a4-4cba-bbe9-5bf2cb777fec"
      },
      "execution_count": null,
      "outputs": [
        {
          "output_type": "execute_result",
          "data": {
            "text/plain": [
              "   age  sex  cp  trestbps  chol  fbs  ...  exang  oldpeak  slope  ca  thal  target\n",
              "0   63    1   3       145   233    1  ...      0      2.3      0   0     1       1\n",
              "1   37    1   2       130   250    0  ...      0      3.5      0   0     2       1\n",
              "2   41    0   1       130   204    0  ...      0      1.4      2   0     2       1\n",
              "3   56    1   1       120   236    0  ...      0      0.8      2   0     2       1\n",
              "4   57    0   0       120   354    0  ...      1      0.6      2   0     2       1\n",
              "\n",
              "[5 rows x 14 columns]"
            ],
            "text/html": [
              "\n",
              "  <div id=\"df-bccbaa6c-b469-4c9d-96c9-5e9056f7f2bd\">\n",
              "    <div class=\"colab-df-container\">\n",
              "      <div>\n",
              "<style scoped>\n",
              "    .dataframe tbody tr th:only-of-type {\n",
              "        vertical-align: middle;\n",
              "    }\n",
              "\n",
              "    .dataframe tbody tr th {\n",
              "        vertical-align: top;\n",
              "    }\n",
              "\n",
              "    .dataframe thead th {\n",
              "        text-align: right;\n",
              "    }\n",
              "</style>\n",
              "<table border=\"1\" class=\"dataframe\">\n",
              "  <thead>\n",
              "    <tr style=\"text-align: right;\">\n",
              "      <th></th>\n",
              "      <th>age</th>\n",
              "      <th>sex</th>\n",
              "      <th>cp</th>\n",
              "      <th>trestbps</th>\n",
              "      <th>chol</th>\n",
              "      <th>fbs</th>\n",
              "      <th>restecg</th>\n",
              "      <th>thalach</th>\n",
              "      <th>exang</th>\n",
              "      <th>oldpeak</th>\n",
              "      <th>slope</th>\n",
              "      <th>ca</th>\n",
              "      <th>thal</th>\n",
              "      <th>target</th>\n",
              "    </tr>\n",
              "  </thead>\n",
              "  <tbody>\n",
              "    <tr>\n",
              "      <th>0</th>\n",
              "      <td>63</td>\n",
              "      <td>1</td>\n",
              "      <td>3</td>\n",
              "      <td>145</td>\n",
              "      <td>233</td>\n",
              "      <td>1</td>\n",
              "      <td>0</td>\n",
              "      <td>150</td>\n",
              "      <td>0</td>\n",
              "      <td>2.3</td>\n",
              "      <td>0</td>\n",
              "      <td>0</td>\n",
              "      <td>1</td>\n",
              "      <td>1</td>\n",
              "    </tr>\n",
              "    <tr>\n",
              "      <th>1</th>\n",
              "      <td>37</td>\n",
              "      <td>1</td>\n",
              "      <td>2</td>\n",
              "      <td>130</td>\n",
              "      <td>250</td>\n",
              "      <td>0</td>\n",
              "      <td>1</td>\n",
              "      <td>187</td>\n",
              "      <td>0</td>\n",
              "      <td>3.5</td>\n",
              "      <td>0</td>\n",
              "      <td>0</td>\n",
              "      <td>2</td>\n",
              "      <td>1</td>\n",
              "    </tr>\n",
              "    <tr>\n",
              "      <th>2</th>\n",
              "      <td>41</td>\n",
              "      <td>0</td>\n",
              "      <td>1</td>\n",
              "      <td>130</td>\n",
              "      <td>204</td>\n",
              "      <td>0</td>\n",
              "      <td>0</td>\n",
              "      <td>172</td>\n",
              "      <td>0</td>\n",
              "      <td>1.4</td>\n",
              "      <td>2</td>\n",
              "      <td>0</td>\n",
              "      <td>2</td>\n",
              "      <td>1</td>\n",
              "    </tr>\n",
              "    <tr>\n",
              "      <th>3</th>\n",
              "      <td>56</td>\n",
              "      <td>1</td>\n",
              "      <td>1</td>\n",
              "      <td>120</td>\n",
              "      <td>236</td>\n",
              "      <td>0</td>\n",
              "      <td>1</td>\n",
              "      <td>178</td>\n",
              "      <td>0</td>\n",
              "      <td>0.8</td>\n",
              "      <td>2</td>\n",
              "      <td>0</td>\n",
              "      <td>2</td>\n",
              "      <td>1</td>\n",
              "    </tr>\n",
              "    <tr>\n",
              "      <th>4</th>\n",
              "      <td>57</td>\n",
              "      <td>0</td>\n",
              "      <td>0</td>\n",
              "      <td>120</td>\n",
              "      <td>354</td>\n",
              "      <td>0</td>\n",
              "      <td>1</td>\n",
              "      <td>163</td>\n",
              "      <td>1</td>\n",
              "      <td>0.6</td>\n",
              "      <td>2</td>\n",
              "      <td>0</td>\n",
              "      <td>2</td>\n",
              "      <td>1</td>\n",
              "    </tr>\n",
              "  </tbody>\n",
              "</table>\n",
              "</div>\n",
              "      <button class=\"colab-df-convert\" onclick=\"convertToInteractive('df-bccbaa6c-b469-4c9d-96c9-5e9056f7f2bd')\"\n",
              "              title=\"Convert this dataframe to an interactive table.\"\n",
              "              style=\"display:none;\">\n",
              "        \n",
              "  <svg xmlns=\"http://www.w3.org/2000/svg\" height=\"24px\"viewBox=\"0 0 24 24\"\n",
              "       width=\"24px\">\n",
              "    <path d=\"M0 0h24v24H0V0z\" fill=\"none\"/>\n",
              "    <path d=\"M18.56 5.44l.94 2.06.94-2.06 2.06-.94-2.06-.94-.94-2.06-.94 2.06-2.06.94zm-11 1L8.5 8.5l.94-2.06 2.06-.94-2.06-.94L8.5 2.5l-.94 2.06-2.06.94zm10 10l.94 2.06.94-2.06 2.06-.94-2.06-.94-.94-2.06-.94 2.06-2.06.94z\"/><path d=\"M17.41 7.96l-1.37-1.37c-.4-.4-.92-.59-1.43-.59-.52 0-1.04.2-1.43.59L10.3 9.45l-7.72 7.72c-.78.78-.78 2.05 0 2.83L4 21.41c.39.39.9.59 1.41.59.51 0 1.02-.2 1.41-.59l7.78-7.78 2.81-2.81c.8-.78.8-2.07 0-2.86zM5.41 20L4 18.59l7.72-7.72 1.47 1.35L5.41 20z\"/>\n",
              "  </svg>\n",
              "      </button>\n",
              "      \n",
              "  <style>\n",
              "    .colab-df-container {\n",
              "      display:flex;\n",
              "      flex-wrap:wrap;\n",
              "      gap: 12px;\n",
              "    }\n",
              "\n",
              "    .colab-df-convert {\n",
              "      background-color: #E8F0FE;\n",
              "      border: none;\n",
              "      border-radius: 50%;\n",
              "      cursor: pointer;\n",
              "      display: none;\n",
              "      fill: #1967D2;\n",
              "      height: 32px;\n",
              "      padding: 0 0 0 0;\n",
              "      width: 32px;\n",
              "    }\n",
              "\n",
              "    .colab-df-convert:hover {\n",
              "      background-color: #E2EBFA;\n",
              "      box-shadow: 0px 1px 2px rgba(60, 64, 67, 0.3), 0px 1px 3px 1px rgba(60, 64, 67, 0.15);\n",
              "      fill: #174EA6;\n",
              "    }\n",
              "\n",
              "    [theme=dark] .colab-df-convert {\n",
              "      background-color: #3B4455;\n",
              "      fill: #D2E3FC;\n",
              "    }\n",
              "\n",
              "    [theme=dark] .colab-df-convert:hover {\n",
              "      background-color: #434B5C;\n",
              "      box-shadow: 0px 1px 3px 1px rgba(0, 0, 0, 0.15);\n",
              "      filter: drop-shadow(0px 1px 2px rgba(0, 0, 0, 0.3));\n",
              "      fill: #FFFFFF;\n",
              "    }\n",
              "  </style>\n",
              "\n",
              "      <script>\n",
              "        const buttonEl =\n",
              "          document.querySelector('#df-bccbaa6c-b469-4c9d-96c9-5e9056f7f2bd button.colab-df-convert');\n",
              "        buttonEl.style.display =\n",
              "          google.colab.kernel.accessAllowed ? 'block' : 'none';\n",
              "\n",
              "        async function convertToInteractive(key) {\n",
              "          const element = document.querySelector('#df-bccbaa6c-b469-4c9d-96c9-5e9056f7f2bd');\n",
              "          const dataTable =\n",
              "            await google.colab.kernel.invokeFunction('convertToInteractive',\n",
              "                                                     [key], {});\n",
              "          if (!dataTable) return;\n",
              "\n",
              "          const docLinkHtml = 'Like what you see? Visit the ' +\n",
              "            '<a target=\"_blank\" href=https://colab.research.google.com/notebooks/data_table.ipynb>data table notebook</a>'\n",
              "            + ' to learn more about interactive tables.';\n",
              "          element.innerHTML = '';\n",
              "          dataTable['output_type'] = 'display_data';\n",
              "          await google.colab.output.renderOutput(dataTable, element);\n",
              "          const docLink = document.createElement('div');\n",
              "          docLink.innerHTML = docLinkHtml;\n",
              "          element.appendChild(docLink);\n",
              "        }\n",
              "      </script>\n",
              "    </div>\n",
              "  </div>\n",
              "  "
            ]
          },
          "metadata": {},
          "execution_count": 9
        }
      ]
    },
    {
      "cell_type": "code",
      "source": [
        "X=data.drop('target',axis=1)\n",
        "Y=data['target']"
      ],
      "metadata": {
        "id": "2kFX0qgstmg2"
      },
      "execution_count": null,
      "outputs": []
    },
    {
      "cell_type": "code",
      "source": [
        "from sklearn.model_selection import train_test_split\n",
        "xtrain,xtest,ytrain,ytest = train_test_split(X,Y)"
      ],
      "metadata": {
        "id": "Rq6MdkW-t6v-"
      },
      "execution_count": null,
      "outputs": []
    },
    {
      "cell_type": "code",
      "source": [
        "xnewtrain,xvalid,ynewtrain,yvalid = train_test_split(xtrain,ytrain)"
      ],
      "metadata": {
        "id": "ZIZl9Gx6uTdv"
      },
      "execution_count": null,
      "outputs": []
    },
    {
      "cell_type": "code",
      "source": [
        "model = Sequential()\n",
        "model.add(Dense(13,activation='relu',input_dim=13))\n",
        "model.add(Dense(20,activation='relu'))\n",
        "model.add(Dense(50, activation='relu'))\n",
        "model.add(Dense(1,activation='sigmoid'))\n",
        "model.summary()"
      ],
      "metadata": {
        "colab": {
          "base_uri": "https://localhost:8080/"
        },
        "id": "5JKy8k2BuiwK",
        "outputId": "e3fcbad6-4f64-411c-9090-e48454010fff"
      },
      "execution_count": null,
      "outputs": [
        {
          "output_type": "stream",
          "name": "stdout",
          "text": [
            "Model: \"sequential_3\"\n",
            "_________________________________________________________________\n",
            " Layer (type)                Output Shape              Param #   \n",
            "=================================================================\n",
            " dense_12 (Dense)            (None, 13)                182       \n",
            "                                                                 \n",
            " dense_13 (Dense)            (None, 20)                280       \n",
            "                                                                 \n",
            " dense_14 (Dense)            (None, 50)                1050      \n",
            "                                                                 \n",
            " dense_15 (Dense)            (None, 1)                 51        \n",
            "                                                                 \n",
            "=================================================================\n",
            "Total params: 1,563\n",
            "Trainable params: 1,563\n",
            "Non-trainable params: 0\n",
            "_________________________________________________________________\n"
          ]
        }
      ]
    },
    {
      "cell_type": "code",
      "source": [
        "model.compile(optimizer=tf.keras.optimizers.Adam(learning_rate=0.002), \n",
        "              metrics=[tf.keras.metrics.binary_accuracy], \n",
        "              loss=tf.keras.losses.binary_crossentropy)"
      ],
      "metadata": {
        "id": "jbLGGzT_wPxo"
      },
      "execution_count": null,
      "outputs": []
    },
    {
      "cell_type": "code",
      "source": [
        "hist=model.fit(xnewtrain,ynewtrain,batch_size=32,epochs=100,validation_data=(xvalid,yvalid))"
      ],
      "metadata": {
        "colab": {
          "base_uri": "https://localhost:8080/"
        },
        "id": "M9jNb1Pgx4EJ",
        "outputId": "2ecf9bf1-2a2a-495a-c167-9aa960f530fb"
      },
      "execution_count": null,
      "outputs": [
        {
          "output_type": "stream",
          "name": "stdout",
          "text": [
            "Epoch 1/100\n",
            "6/6 [==============================] - 1s 38ms/step - loss: 1.1563 - binary_accuracy: 0.4882 - val_loss: 1.1859 - val_binary_accuracy: 0.5439\n",
            "Epoch 2/100\n",
            "6/6 [==============================] - 0s 12ms/step - loss: 1.1660 - binary_accuracy: 0.6059 - val_loss: 0.7986 - val_binary_accuracy: 0.5614\n",
            "Epoch 3/100\n",
            "6/6 [==============================] - 0s 12ms/step - loss: 0.9184 - binary_accuracy: 0.4765 - val_loss: 0.6253 - val_binary_accuracy: 0.6667\n",
            "Epoch 4/100\n",
            "6/6 [==============================] - 0s 12ms/step - loss: 0.8897 - binary_accuracy: 0.6118 - val_loss: 0.6411 - val_binary_accuracy: 0.6667\n",
            "Epoch 5/100\n",
            "6/6 [==============================] - 0s 9ms/step - loss: 0.7232 - binary_accuracy: 0.5824 - val_loss: 0.7151 - val_binary_accuracy: 0.6491\n",
            "Epoch 6/100\n",
            "6/6 [==============================] - 0s 9ms/step - loss: 0.6228 - binary_accuracy: 0.6353 - val_loss: 0.6579 - val_binary_accuracy: 0.6667\n",
            "Epoch 7/100\n",
            "6/6 [==============================] - 0s 12ms/step - loss: 0.6306 - binary_accuracy: 0.6471 - val_loss: 0.6367 - val_binary_accuracy: 0.7018\n",
            "Epoch 8/100\n",
            "6/6 [==============================] - 0s 8ms/step - loss: 0.5974 - binary_accuracy: 0.6882 - val_loss: 0.6000 - val_binary_accuracy: 0.6667\n",
            "Epoch 9/100\n",
            "6/6 [==============================] - 0s 12ms/step - loss: 0.5832 - binary_accuracy: 0.6824 - val_loss: 0.6082 - val_binary_accuracy: 0.6842\n",
            "Epoch 10/100\n",
            "6/6 [==============================] - 0s 8ms/step - loss: 0.5958 - binary_accuracy: 0.6588 - val_loss: 0.6006 - val_binary_accuracy: 0.6842\n",
            "Epoch 11/100\n",
            "6/6 [==============================] - 0s 12ms/step - loss: 0.5921 - binary_accuracy: 0.6706 - val_loss: 0.6060 - val_binary_accuracy: 0.6491\n",
            "Epoch 12/100\n",
            "6/6 [==============================] - 0s 9ms/step - loss: 0.6005 - binary_accuracy: 0.6824 - val_loss: 0.6007 - val_binary_accuracy: 0.6667\n",
            "Epoch 13/100\n",
            "6/6 [==============================] - 0s 9ms/step - loss: 0.5669 - binary_accuracy: 0.6706 - val_loss: 0.5985 - val_binary_accuracy: 0.6667\n",
            "Epoch 14/100\n",
            "6/6 [==============================] - 0s 12ms/step - loss: 0.5785 - binary_accuracy: 0.6882 - val_loss: 0.5955 - val_binary_accuracy: 0.6667\n",
            "Epoch 15/100\n",
            "6/6 [==============================] - 0s 9ms/step - loss: 0.5845 - binary_accuracy: 0.6706 - val_loss: 0.6034 - val_binary_accuracy: 0.7193\n",
            "Epoch 16/100\n",
            "6/6 [==============================] - 0s 9ms/step - loss: 0.5846 - binary_accuracy: 0.6941 - val_loss: 0.5942 - val_binary_accuracy: 0.6667\n",
            "Epoch 17/100\n",
            "6/6 [==============================] - 0s 8ms/step - loss: 0.5670 - binary_accuracy: 0.6765 - val_loss: 0.5861 - val_binary_accuracy: 0.7193\n",
            "Epoch 18/100\n",
            "6/6 [==============================] - 0s 9ms/step - loss: 0.5707 - binary_accuracy: 0.7412 - val_loss: 0.5962 - val_binary_accuracy: 0.6667\n",
            "Epoch 19/100\n",
            "6/6 [==============================] - 0s 9ms/step - loss: 0.5964 - binary_accuracy: 0.6647 - val_loss: 0.6051 - val_binary_accuracy: 0.7193\n",
            "Epoch 20/100\n",
            "6/6 [==============================] - 0s 8ms/step - loss: 0.5940 - binary_accuracy: 0.6824 - val_loss: 0.5984 - val_binary_accuracy: 0.6491\n",
            "Epoch 21/100\n",
            "6/6 [==============================] - 0s 9ms/step - loss: 0.5714 - binary_accuracy: 0.6882 - val_loss: 0.6013 - val_binary_accuracy: 0.7193\n",
            "Epoch 22/100\n",
            "6/6 [==============================] - 0s 10ms/step - loss: 0.5632 - binary_accuracy: 0.6941 - val_loss: 0.5950 - val_binary_accuracy: 0.7018\n",
            "Epoch 23/100\n",
            "6/6 [==============================] - 0s 12ms/step - loss: 0.5610 - binary_accuracy: 0.6941 - val_loss: 0.5898 - val_binary_accuracy: 0.6667\n",
            "Epoch 24/100\n",
            "6/6 [==============================] - 0s 12ms/step - loss: 0.5539 - binary_accuracy: 0.7235 - val_loss: 0.5960 - val_binary_accuracy: 0.6667\n",
            "Epoch 25/100\n",
            "6/6 [==============================] - 0s 12ms/step - loss: 0.5554 - binary_accuracy: 0.6882 - val_loss: 0.6008 - val_binary_accuracy: 0.7018\n",
            "Epoch 26/100\n",
            "6/6 [==============================] - 0s 9ms/step - loss: 0.5509 - binary_accuracy: 0.6882 - val_loss: 0.6208 - val_binary_accuracy: 0.6842\n",
            "Epoch 27/100\n",
            "6/6 [==============================] - 0s 12ms/step - loss: 0.5819 - binary_accuracy: 0.6765 - val_loss: 0.6421 - val_binary_accuracy: 0.6491\n",
            "Epoch 28/100\n",
            "6/6 [==============================] - 0s 11ms/step - loss: 0.5694 - binary_accuracy: 0.7000 - val_loss: 0.6129 - val_binary_accuracy: 0.7368\n",
            "Epoch 29/100\n",
            "6/6 [==============================] - 0s 12ms/step - loss: 0.5632 - binary_accuracy: 0.7118 - val_loss: 0.5844 - val_binary_accuracy: 0.6667\n",
            "Epoch 30/100\n",
            "6/6 [==============================] - 0s 12ms/step - loss: 0.5319 - binary_accuracy: 0.7235 - val_loss: 0.6057 - val_binary_accuracy: 0.7719\n",
            "Epoch 31/100\n",
            "6/6 [==============================] - 0s 9ms/step - loss: 0.5490 - binary_accuracy: 0.7059 - val_loss: 0.6186 - val_binary_accuracy: 0.6667\n",
            "Epoch 32/100\n",
            "6/6 [==============================] - 0s 9ms/step - loss: 0.6096 - binary_accuracy: 0.6647 - val_loss: 0.6048 - val_binary_accuracy: 0.7018\n",
            "Epoch 33/100\n",
            "6/6 [==============================] - 0s 12ms/step - loss: 0.5384 - binary_accuracy: 0.7235 - val_loss: 0.5972 - val_binary_accuracy: 0.6316\n",
            "Epoch 34/100\n",
            "6/6 [==============================] - 0s 9ms/step - loss: 0.5422 - binary_accuracy: 0.7059 - val_loss: 0.5989 - val_binary_accuracy: 0.7193\n",
            "Epoch 35/100\n",
            "6/6 [==============================] - 0s 9ms/step - loss: 0.5332 - binary_accuracy: 0.7176 - val_loss: 0.5804 - val_binary_accuracy: 0.6667\n",
            "Epoch 36/100\n",
            "6/6 [==============================] - 0s 9ms/step - loss: 0.5206 - binary_accuracy: 0.7353 - val_loss: 0.5968 - val_binary_accuracy: 0.7018\n",
            "Epoch 37/100\n",
            "6/6 [==============================] - 0s 12ms/step - loss: 0.5496 - binary_accuracy: 0.7353 - val_loss: 0.5967 - val_binary_accuracy: 0.6667\n",
            "Epoch 38/100\n",
            "6/6 [==============================] - 0s 9ms/step - loss: 0.5260 - binary_accuracy: 0.6941 - val_loss: 0.5987 - val_binary_accuracy: 0.7193\n",
            "Epoch 39/100\n",
            "6/6 [==============================] - 0s 14ms/step - loss: 0.5369 - binary_accuracy: 0.7294 - val_loss: 0.5717 - val_binary_accuracy: 0.6491\n",
            "Epoch 40/100\n",
            "6/6 [==============================] - 0s 13ms/step - loss: 0.5327 - binary_accuracy: 0.7588 - val_loss: 0.5702 - val_binary_accuracy: 0.6842\n",
            "Epoch 41/100\n",
            "6/6 [==============================] - 0s 9ms/step - loss: 0.5407 - binary_accuracy: 0.7294 - val_loss: 0.6271 - val_binary_accuracy: 0.7193\n",
            "Epoch 42/100\n",
            "6/6 [==============================] - 0s 9ms/step - loss: 0.5375 - binary_accuracy: 0.7353 - val_loss: 0.6385 - val_binary_accuracy: 0.6491\n",
            "Epoch 43/100\n",
            "6/6 [==============================] - 0s 9ms/step - loss: 0.5926 - binary_accuracy: 0.7000 - val_loss: 0.6703 - val_binary_accuracy: 0.6842\n",
            "Epoch 44/100\n",
            "6/6 [==============================] - 0s 9ms/step - loss: 0.5996 - binary_accuracy: 0.6765 - val_loss: 0.7487 - val_binary_accuracy: 0.6491\n",
            "Epoch 45/100\n",
            "6/6 [==============================] - 0s 9ms/step - loss: 0.6903 - binary_accuracy: 0.6706 - val_loss: 0.6417 - val_binary_accuracy: 0.6842\n",
            "Epoch 46/100\n",
            "6/6 [==============================] - 0s 9ms/step - loss: 0.6946 - binary_accuracy: 0.6118 - val_loss: 0.5914 - val_binary_accuracy: 0.6667\n",
            "Epoch 47/100\n",
            "6/6 [==============================] - 0s 8ms/step - loss: 0.6086 - binary_accuracy: 0.6647 - val_loss: 0.5757 - val_binary_accuracy: 0.7018\n",
            "Epoch 48/100\n",
            "6/6 [==============================] - 0s 8ms/step - loss: 0.6379 - binary_accuracy: 0.6294 - val_loss: 0.5734 - val_binary_accuracy: 0.7193\n",
            "Epoch 49/100\n",
            "6/6 [==============================] - 0s 9ms/step - loss: 0.5491 - binary_accuracy: 0.7235 - val_loss: 0.6352 - val_binary_accuracy: 0.6491\n",
            "Epoch 50/100\n",
            "6/6 [==============================] - 0s 9ms/step - loss: 0.5509 - binary_accuracy: 0.7471 - val_loss: 0.6250 - val_binary_accuracy: 0.7018\n",
            "Epoch 51/100\n",
            "6/6 [==============================] - 0s 12ms/step - loss: 0.5300 - binary_accuracy: 0.7353 - val_loss: 0.5982 - val_binary_accuracy: 0.6667\n",
            "Epoch 52/100\n",
            "6/6 [==============================] - 0s 9ms/step - loss: 0.5325 - binary_accuracy: 0.7294 - val_loss: 0.5569 - val_binary_accuracy: 0.7193\n",
            "Epoch 53/100\n",
            "6/6 [==============================] - 0s 12ms/step - loss: 0.5068 - binary_accuracy: 0.7353 - val_loss: 0.5511 - val_binary_accuracy: 0.7193\n",
            "Epoch 54/100\n",
            "6/6 [==============================] - 0s 9ms/step - loss: 0.5045 - binary_accuracy: 0.7529 - val_loss: 0.5704 - val_binary_accuracy: 0.7018\n",
            "Epoch 55/100\n",
            "6/6 [==============================] - 0s 9ms/step - loss: 0.4951 - binary_accuracy: 0.7588 - val_loss: 0.5740 - val_binary_accuracy: 0.6842\n",
            "Epoch 56/100\n",
            "6/6 [==============================] - 0s 12ms/step - loss: 0.4865 - binary_accuracy: 0.7412 - val_loss: 0.5795 - val_binary_accuracy: 0.6667\n",
            "Epoch 57/100\n",
            "6/6 [==============================] - 0s 10ms/step - loss: 0.5025 - binary_accuracy: 0.7647 - val_loss: 0.5717 - val_binary_accuracy: 0.6842\n",
            "Epoch 58/100\n",
            "6/6 [==============================] - 0s 9ms/step - loss: 0.4867 - binary_accuracy: 0.7588 - val_loss: 0.5727 - val_binary_accuracy: 0.6842\n",
            "Epoch 59/100\n",
            "6/6 [==============================] - 0s 9ms/step - loss: 0.4772 - binary_accuracy: 0.7765 - val_loss: 0.5731 - val_binary_accuracy: 0.6842\n",
            "Epoch 60/100\n",
            "6/6 [==============================] - 0s 12ms/step - loss: 0.4816 - binary_accuracy: 0.7353 - val_loss: 0.5593 - val_binary_accuracy: 0.6842\n",
            "Epoch 61/100\n",
            "6/6 [==============================] - 0s 12ms/step - loss: 0.4797 - binary_accuracy: 0.7529 - val_loss: 0.5686 - val_binary_accuracy: 0.6667\n",
            "Epoch 62/100\n",
            "6/6 [==============================] - 0s 12ms/step - loss: 0.4703 - binary_accuracy: 0.7647 - val_loss: 0.5614 - val_binary_accuracy: 0.6842\n",
            "Epoch 63/100\n",
            "6/6 [==============================] - 0s 12ms/step - loss: 0.4698 - binary_accuracy: 0.7529 - val_loss: 0.5625 - val_binary_accuracy: 0.6667\n",
            "Epoch 64/100\n",
            "6/6 [==============================] - 0s 9ms/step - loss: 0.4707 - binary_accuracy: 0.8000 - val_loss: 0.5708 - val_binary_accuracy: 0.7018\n",
            "Epoch 65/100\n",
            "6/6 [==============================] - 0s 8ms/step - loss: 0.4939 - binary_accuracy: 0.7353 - val_loss: 0.5700 - val_binary_accuracy: 0.6842\n",
            "Epoch 66/100\n",
            "6/6 [==============================] - 0s 8ms/step - loss: 0.4655 - binary_accuracy: 0.7941 - val_loss: 0.5612 - val_binary_accuracy: 0.6842\n",
            "Epoch 67/100\n",
            "6/6 [==============================] - 0s 9ms/step - loss: 0.4698 - binary_accuracy: 0.7941 - val_loss: 0.5642 - val_binary_accuracy: 0.7193\n",
            "Epoch 68/100\n",
            "6/6 [==============================] - 0s 10ms/step - loss: 0.4644 - binary_accuracy: 0.7824 - val_loss: 0.5466 - val_binary_accuracy: 0.7193\n",
            "Epoch 69/100\n",
            "6/6 [==============================] - 0s 9ms/step - loss: 0.4799 - binary_accuracy: 0.7647 - val_loss: 0.5535 - val_binary_accuracy: 0.6842\n",
            "Epoch 70/100\n",
            "6/6 [==============================] - 0s 9ms/step - loss: 0.4549 - binary_accuracy: 0.7765 - val_loss: 0.5583 - val_binary_accuracy: 0.7018\n",
            "Epoch 71/100\n",
            "6/6 [==============================] - 0s 12ms/step - loss: 0.4721 - binary_accuracy: 0.7588 - val_loss: 0.5476 - val_binary_accuracy: 0.6842\n",
            "Epoch 72/100\n",
            "6/6 [==============================] - 0s 9ms/step - loss: 0.4644 - binary_accuracy: 0.7882 - val_loss: 0.5470 - val_binary_accuracy: 0.7193\n",
            "Epoch 73/100\n",
            "6/6 [==============================] - 0s 12ms/step - loss: 0.4506 - binary_accuracy: 0.7824 - val_loss: 0.5543 - val_binary_accuracy: 0.7018\n",
            "Epoch 74/100\n",
            "6/6 [==============================] - 0s 12ms/step - loss: 0.4748 - binary_accuracy: 0.7824 - val_loss: 0.5554 - val_binary_accuracy: 0.7018\n",
            "Epoch 75/100\n",
            "6/6 [==============================] - 0s 9ms/step - loss: 0.4657 - binary_accuracy: 0.7941 - val_loss: 0.5517 - val_binary_accuracy: 0.6842\n",
            "Epoch 76/100\n",
            "6/6 [==============================] - 0s 12ms/step - loss: 0.4736 - binary_accuracy: 0.7588 - val_loss: 0.5673 - val_binary_accuracy: 0.6667\n",
            "Epoch 77/100\n",
            "6/6 [==============================] - 0s 13ms/step - loss: 0.4384 - binary_accuracy: 0.7765 - val_loss: 0.5681 - val_binary_accuracy: 0.6491\n",
            "Epoch 78/100\n",
            "6/6 [==============================] - 0s 9ms/step - loss: 0.4412 - binary_accuracy: 0.7706 - val_loss: 0.5753 - val_binary_accuracy: 0.7018\n",
            "Epoch 79/100\n",
            "6/6 [==============================] - 0s 12ms/step - loss: 0.4585 - binary_accuracy: 0.7824 - val_loss: 0.5500 - val_binary_accuracy: 0.6842\n",
            "Epoch 80/100\n",
            "6/6 [==============================] - 0s 9ms/step - loss: 0.4337 - binary_accuracy: 0.7765 - val_loss: 0.5508 - val_binary_accuracy: 0.7018\n",
            "Epoch 81/100\n",
            "6/6 [==============================] - 0s 9ms/step - loss: 0.4422 - binary_accuracy: 0.7882 - val_loss: 0.5630 - val_binary_accuracy: 0.7018\n",
            "Epoch 82/100\n",
            "6/6 [==============================] - 0s 9ms/step - loss: 0.4416 - binary_accuracy: 0.7765 - val_loss: 0.5721 - val_binary_accuracy: 0.6842\n",
            "Epoch 83/100\n",
            "6/6 [==============================] - 0s 9ms/step - loss: 0.4271 - binary_accuracy: 0.7941 - val_loss: 0.5774 - val_binary_accuracy: 0.6842\n",
            "Epoch 84/100\n",
            "6/6 [==============================] - 0s 9ms/step - loss: 0.4386 - binary_accuracy: 0.7941 - val_loss: 0.5687 - val_binary_accuracy: 0.7193\n",
            "Epoch 85/100\n",
            "6/6 [==============================] - 0s 9ms/step - loss: 0.4313 - binary_accuracy: 0.7882 - val_loss: 0.5546 - val_binary_accuracy: 0.7018\n",
            "Epoch 86/100\n",
            "6/6 [==============================] - 0s 12ms/step - loss: 0.4395 - binary_accuracy: 0.8000 - val_loss: 0.5432 - val_binary_accuracy: 0.7193\n",
            "Epoch 87/100\n",
            "6/6 [==============================] - 0s 10ms/step - loss: 0.4364 - binary_accuracy: 0.7941 - val_loss: 0.5432 - val_binary_accuracy: 0.6842\n",
            "Epoch 88/100\n",
            "6/6 [==============================] - 0s 13ms/step - loss: 0.4314 - binary_accuracy: 0.8000 - val_loss: 0.5622 - val_binary_accuracy: 0.6842\n",
            "Epoch 89/100\n",
            "6/6 [==============================] - 0s 13ms/step - loss: 0.4440 - binary_accuracy: 0.8118 - val_loss: 0.5840 - val_binary_accuracy: 0.6667\n",
            "Epoch 90/100\n",
            "6/6 [==============================] - 0s 12ms/step - loss: 0.4691 - binary_accuracy: 0.7765 - val_loss: 0.5798 - val_binary_accuracy: 0.6842\n",
            "Epoch 91/100\n",
            "6/6 [==============================] - 0s 12ms/step - loss: 0.4439 - binary_accuracy: 0.8000 - val_loss: 0.5395 - val_binary_accuracy: 0.7193\n",
            "Epoch 92/100\n",
            "6/6 [==============================] - 0s 11ms/step - loss: 0.4460 - binary_accuracy: 0.8000 - val_loss: 0.5347 - val_binary_accuracy: 0.7193\n",
            "Epoch 93/100\n",
            "6/6 [==============================] - 0s 11ms/step - loss: 0.4602 - binary_accuracy: 0.7941 - val_loss: 0.5326 - val_binary_accuracy: 0.7018\n",
            "Epoch 94/100\n",
            "6/6 [==============================] - 0s 12ms/step - loss: 0.4254 - binary_accuracy: 0.8000 - val_loss: 0.5187 - val_binary_accuracy: 0.7018\n",
            "Epoch 95/100\n",
            "6/6 [==============================] - 0s 9ms/step - loss: 0.4342 - binary_accuracy: 0.7882 - val_loss: 0.5269 - val_binary_accuracy: 0.7193\n",
            "Epoch 96/100\n",
            "6/6 [==============================] - 0s 9ms/step - loss: 0.4419 - binary_accuracy: 0.7765 - val_loss: 0.5431 - val_binary_accuracy: 0.7018\n",
            "Epoch 97/100\n",
            "6/6 [==============================] - 0s 9ms/step - loss: 0.4219 - binary_accuracy: 0.8000 - val_loss: 0.5446 - val_binary_accuracy: 0.7193\n",
            "Epoch 98/100\n",
            "6/6 [==============================] - 0s 9ms/step - loss: 0.4058 - binary_accuracy: 0.8118 - val_loss: 0.5655 - val_binary_accuracy: 0.7193\n",
            "Epoch 99/100\n",
            "6/6 [==============================] - 0s 9ms/step - loss: 0.4324 - binary_accuracy: 0.8059 - val_loss: 0.5433 - val_binary_accuracy: 0.7018\n",
            "Epoch 100/100\n",
            "6/6 [==============================] - 0s 9ms/step - loss: 0.4117 - binary_accuracy: 0.8118 - val_loss: 0.5498 - val_binary_accuracy: 0.7193\n"
          ]
        }
      ]
    },
    {
      "cell_type": "code",
      "source": [
        "hist.history.keys()"
      ],
      "metadata": {
        "colab": {
          "base_uri": "https://localhost:8080/"
        },
        "id": "c2_VWhHUy3ux",
        "outputId": "9f4c55d4-2ba7-4675-fbfe-a97bc898bea0"
      },
      "execution_count": null,
      "outputs": [
        {
          "output_type": "execute_result",
          "data": {
            "text/plain": [
              "dict_keys(['loss', 'binary_accuracy', 'val_loss', 'val_binary_accuracy'])"
            ]
          },
          "metadata": {},
          "execution_count": 31
        }
      ]
    },
    {
      "cell_type": "code",
      "source": [
        "plt.plot(hist.history['loss'], label='Training Loss')\n",
        "plt.plot(hist.history['val_loss'], label='Validation Loss')\n",
        "plt.xlabel('epoches')\n",
        "plt.ylabel('Loss')"
      ],
      "metadata": {
        "colab": {
          "base_uri": "https://localhost:8080/",
          "height": 297
        },
        "id": "EbpcyigWzbmc",
        "outputId": "3e712e47-ba64-4e02-b91b-5ddb5222fa39"
      },
      "execution_count": null,
      "outputs": [
        {
          "output_type": "execute_result",
          "data": {
            "text/plain": [
              "Text(0, 0.5, 'Loss')"
            ]
          },
          "metadata": {},
          "execution_count": 32
        },
        {
          "output_type": "display_data",
          "data": {
            "text/plain": [
              "<Figure size 432x288 with 1 Axes>"
            ],
            "image/png": "[encoded data removed]"
          },
          "metadata": {
            "needs_background": "light"
          }
        }
      ]
    },
    {
      "cell_type": "code",
      "source": [
        "plt.plot(hist.history['binary_accuracy'], label='Training Loss')\n",
        "plt.plot(hist.history['val_binary_accuracy'], label='Validation Loss')\n",
        "plt.xlabel('epoches')\n",
        "plt.ylabel('Loss')"
      ],
      "metadata": {
        "colab": {
          "base_uri": "https://localhost:8080/",
          "height": 297
        },
        "id": "waPipOJizbz9",
        "outputId": "dcf49d36-175e-432d-c798-0d32e831ea8a"
      },
      "execution_count": null,
      "outputs": [
        {
          "output_type": "execute_result",
          "data": {
            "text/plain": [
              "Text(0, 0.5, 'Loss')"
            ]
          },
          "metadata": {},
          "execution_count": 33
        },
        {
          "output_type": "display_data",
          "data": {
            "text/plain": [
              "<Figure size 432x288 with 1 Axes>"
            ],
            "image/png": "[encoded data removed]"
          },
          "metadata": {
            "needs_background": "light"
          }
        }
      ]
    },
    {
      "cell_type": "code",
      "source": [
        "ypred=model.predict(xtest)"
      ],
      "metadata": {
        "colab": {
          "base_uri": "https://localhost:8080/"
        },
        "id": "np1gztrp1XV2",
        "outputId": "8b7b5afc-ea89-4050-a4b2-4042bdf2301d"
      },
      "execution_count": null,
      "outputs": [
        {
          "output_type": "stream",
          "name": "stdout",
          "text": [
            "3/3 [==============================] - 0s 3ms/step\n"
          ]
        }
      ]
    },
    {
      "cell_type": "code",
      "source": [
        "newypred=np.round(ypred)"
      ],
      "metadata": {
        "id": "qmHX9XyA2DPW"
      },
      "execution_count": null,
      "outputs": []
    },
    {
      "cell_type": "code",
      "source": [
        "newypred"
      ],
      "metadata": {
        "colab": {
          "base_uri": "https://localhost:8080/"
        },
        "id": "c4I5H8vo2W2z",
        "outputId": "1de8664b-3147-44e7-fda0-44c00ded7479"
      },
      "execution_count": null,
      "outputs": [
        {
          "output_type": "execute_result",
          "data": {
            "text/plain": [
              "array([[0.],\n",
              "       [1.],\n",
              "       [0.],\n",
              "       [1.],\n",
              "       [1.],\n",
              "       [1.],\n",
              "       [0.],\n",
              "       [0.],\n",
              "       [0.],\n",
              "       [0.],\n",
              "       [1.],\n",
              "       [1.],\n",
              "       [1.],\n",
              "       [0.],\n",
              "       [0.],\n",
              "       [1.],\n",
              "       [1.],\n",
              "       [1.],\n",
              "       [0.],\n",
              "       [0.],\n",
              "       [1.],\n",
              "       [0.],\n",
              "       [1.],\n",
              "       [1.],\n",
              "       [1.],\n",
              "       [1.],\n",
              "       [1.],\n",
              "       [0.],\n",
              "       [1.],\n",
              "       [1.],\n",
              "       [1.],\n",
              "       [1.],\n",
              "       [0.],\n",
              "       [1.],\n",
              "       [0.],\n",
              "       [0.],\n",
              "       [0.],\n",
              "       [1.],\n",
              "       [1.],\n",
              "       [1.],\n",
              "       [0.],\n",
              "       [0.],\n",
              "       [0.],\n",
              "       [0.],\n",
              "       [1.],\n",
              "       [0.],\n",
              "       [1.],\n",
              "       [0.],\n",
              "       [0.],\n",
              "       [1.],\n",
              "       [0.],\n",
              "       [1.],\n",
              "       [0.],\n",
              "       [0.],\n",
              "       [1.],\n",
              "       [1.],\n",
              "       [1.],\n",
              "       [0.],\n",
              "       [0.],\n",
              "       [1.],\n",
              "       [0.],\n",
              "       [0.],\n",
              "       [1.],\n",
              "       [1.],\n",
              "       [1.],\n",
              "       [0.],\n",
              "       [0.],\n",
              "       [1.],\n",
              "       [1.],\n",
              "       [0.],\n",
              "       [1.],\n",
              "       [0.],\n",
              "       [1.],\n",
              "       [1.],\n",
              "       [1.],\n",
              "       [1.]], dtype=float32)"
            ]
          },
          "metadata": {},
          "execution_count": 38
        }
      ]
    },
    {
      "cell_type": "code",
      "source": [
        "from sklearn.metrics import confusion_matrix, classification_report, accuracy_score\n",
        "confusion_matrix(ytest,newypred)"
      ],
      "metadata": {
        "colab": {
          "base_uri": "https://localhost:8080/"
        },
        "id": "5BSAEEHK1jmV",
        "outputId": "15cf84f7-b7af-4b2c-9c20-6a188b5ffafa"
      },
      "execution_count": null,
      "outputs": [
        {
          "output_type": "execute_result",
          "data": {
            "text/plain": [
              "array([[28, 13],\n",
              "       [ 6, 29]])"
            ]
          },
          "metadata": {},
          "execution_count": 41
        }
      ]
    },
    {
      "cell_type": "code",
      "source": [
        "print(classification_report(ytest,newypred))"
      ],
      "metadata": {
        "colab": {
          "base_uri": "https://localhost:8080/"
        },
        "id": "abDGzKX029B8",
        "outputId": "fe0abdf9-188f-49d5-ec73-5531eec9c73f"
      },
      "execution_count": null,
      "outputs": [
        {
          "output_type": "stream",
          "name": "stdout",
          "text": [
            "              precision    recall  f1-score   support\n",
            "\n",
            "           0       0.82      0.68      0.75        41\n",
            "           1       0.69      0.83      0.75        35\n",
            "\n",
            "    accuracy                           0.75        76\n",
            "   macro avg       0.76      0.76      0.75        76\n",
            "weighted avg       0.76      0.75      0.75        76\n",
            "\n"
          ]
        }
      ]
    },
    {
      "cell_type": "code",
      "source": [
        "data=pd.read_csv(\"/content/drive/MyDrive/Re_Car_Purchasing_Data.csv\",encoding=\"ISO-8859-1\")\n",
        "data.head()"
      ],
      "metadata": {
        "colab": {
          "base_uri": "https://localhost:8080/",
          "height": 206
        },
        "id": "dH7K4b913Nhq",
        "outputId": "62ba98d9-83db-44dc-bd72-722b9180a711"
      },
      "execution_count": null,
      "outputs": [
        {
          "output_type": "execute_result",
          "data": {
            "text/plain": [
              "     Customer Name                                    Customer e-mail  \\\n",
              "0    Martina Avila  cubilia.Curae.Phasellus@quisaccumsanconvallis.edu   \n",
              "1    Harlan Barnes                                eu.dolor@diam.co.uk   \n",
              "2  Naomi Rodriquez  vulputate.mauris.sagittis@ametconsectetueradip...   \n",
              "3  Jade Cunningham                            malesuada@dignissim.com   \n",
              "4     Cedric Leach     felis.ullamcorper.viverra@egetmollislectus.net   \n",
              "\n",
              "        Country  Gender        Age  Annual Salary  Credit Card Debt  \\\n",
              "0      Bulgaria       0  41.851720    62812.09301      11609.380910   \n",
              "1        Belize       0  40.870623    66646.89292       9572.957136   \n",
              "2       Algeria       1  43.152897    53798.55112      11160.355060   \n",
              "3  Cook Islands       1  58.271369    79370.03798      14426.164850   \n",
              "4        Brazil       1  57.313749    59729.15130       5358.712177   \n",
              "\n",
              "     Net Worth  Car Purchase Amount  \n",
              "0  238961.2505          35321.45877  \n",
              "1  530973.9078          45115.52566  \n",
              "2  638467.1773          42925.70921  \n",
              "3  548599.0524          67422.36313  \n",
              "4  560304.0671          55915.46248  "
            ],
            "text/html": [
              "\n",
              "  <div id=\"df-13a4fed1-bdff-4d34-bc00-485586139001\">\n",
              "    <div class=\"colab-df-container\">\n",
              "      <div>\n",
              "<style scoped>\n",
              "    .dataframe tbody tr th:only-of-type {\n",
              "        vertical-align: middle;\n",
              "    }\n",
              "\n",
              "    .dataframe tbody tr th {\n",
              "        vertical-align: top;\n",
              "    }\n",
              "\n",
              "    .dataframe thead th {\n",
              "        text-align: right;\n",
              "    }\n",
              "</style>\n",
              "<table border=\"1\" class=\"dataframe\">\n",
              "  <thead>\n",
              "    <tr style=\"text-align: right;\">\n",
              "      <th></th>\n",
              "      <th>Customer Name</th>\n",
              "      <th>Customer e-mail</th>\n",
              "      <th>Country</th>\n",
              "      <th>Gender</th>\n",
              "      <th>Age</th>\n",
              "      <th>Annual Salary</th>\n",
              "      <th>Credit Card Debt</th>\n",
              "      <th>Net Worth</th>\n",
              "      <th>Car Purchase Amount</th>\n",
              "    </tr>\n",
              "  </thead>\n",
              "  <tbody>\n",
              "    <tr>\n",
              "      <th>0</th>\n",
              "      <td>Martina Avila</td>\n",
              "      <td>cubilia.Curae.Phasellus@quisaccumsanconvallis.edu</td>\n",
              "      <td>Bulgaria</td>\n",
              "      <td>0</td>\n",
              "      <td>41.851720</td>\n",
              "      <td>62812.09301</td>\n",
              "      <td>11609.380910</td>\n",
              "      <td>238961.2505</td>\n",
              "      <td>35321.45877</td>\n",
              "    </tr>\n",
              "    <tr>\n",
              "      <th>1</th>\n",
              "      <td>Harlan Barnes</td>\n",
              "      <td>eu.dolor@diam.co.uk</td>\n",
              "      <td>Belize</td>\n",
              "      <td>0</td>\n",
              "      <td>40.870623</td>\n",
              "      <td>66646.89292</td>\n",
              "      <td>9572.957136</td>\n",
              "      <td>530973.9078</td>\n",
              "      <td>45115.52566</td>\n",
              "    </tr>\n",
              "    <tr>\n",
              "      <th>2</th>\n",
              "      <td>Naomi Rodriquez</td>\n",
              "      <td>vulputate.mauris.sagittis@ametconsectetueradip...</td>\n",
              "      <td>Algeria</td>\n",
              "      <td>1</td>\n",
              "      <td>43.152897</td>\n",
              "      <td>53798.55112</td>\n",
              "      <td>11160.355060</td>\n",
              "      <td>638467.1773</td>\n",
              "      <td>42925.70921</td>\n",
              "    </tr>\n",
              "    <tr>\n",
              "      <th>3</th>\n",
              "      <td>Jade Cunningham</td>\n",
              "      <td>malesuada@dignissim.com</td>\n",
              "      <td>Cook Islands</td>\n",
              "      <td>1</td>\n",
              "      <td>58.271369</td>\n",
              "      <td>79370.03798</td>\n",
              "      <td>14426.164850</td>\n",
              "      <td>548599.0524</td>\n",
              "      <td>67422.36313</td>\n",
              "    </tr>\n",
              "    <tr>\n",
              "      <th>4</th>\n",
              "      <td>Cedric Leach</td>\n",
              "      <td>felis.ullamcorper.viverra@egetmollislectus.net</td>\n",
              "      <td>Brazil</td>\n",
              "      <td>1</td>\n",
              "      <td>57.313749</td>\n",
              "      <td>59729.15130</td>\n",
              "      <td>5358.712177</td>\n",
              "      <td>560304.0671</td>\n",
              "      <td>55915.46248</td>\n",
              "    </tr>\n",
              "  </tbody>\n",
              "</table>\n",
              "</div>\n",
              "      <button class=\"colab-df-convert\" onclick=\"convertToInteractive('df-13a4fed1-bdff-4d34-bc00-485586139001')\"\n",
              "              title=\"Convert this dataframe to an interactive table.\"\n",
              "              style=\"display:none;\">\n",
              "        \n",
              "  <svg xmlns=\"http://www.w3.org/2000/svg\" height=\"24px\"viewBox=\"0 0 24 24\"\n",
              "       width=\"24px\">\n",
              "    <path d=\"M0 0h24v24H0V0z\" fill=\"none\"/>\n",
              "    <path d=\"M18.56 5.44l.94 2.06.94-2.06 2.06-.94-2.06-.94-.94-2.06-.94 2.06-2.06.94zm-11 1L8.5 8.5l.94-2.06 2.06-.94-2.06-.94L8.5 2.5l-.94 2.06-2.06.94zm10 10l.94 2.06.94-2.06 2.06-.94-2.06-.94-.94-2.06-.94 2.06-2.06.94z\"/><path d=\"M17.41 7.96l-1.37-1.37c-.4-.4-.92-.59-1.43-.59-.52 0-1.04.2-1.43.59L10.3 9.45l-7.72 7.72c-.78.78-.78 2.05 0 2.83L4 21.41c.39.39.9.59 1.41.59.51 0 1.02-.2 1.41-.59l7.78-7.78 2.81-2.81c.8-.78.8-2.07 0-2.86zM5.41 20L4 18.59l7.72-7.72 1.47 1.35L5.41 20z\"/>\n",
              "  </svg>\n",
              "      </button>\n",
              "      \n",
              "  <style>\n",
              "    .colab-df-container {\n",
              "      display:flex;\n",
              "      flex-wrap:wrap;\n",
              "      gap: 12px;\n",
              "    }\n",
              "\n",
              "    .colab-df-convert {\n",
              "      background-color: #E8F0FE;\n",
              "      border: none;\n",
              "      border-radius: 50%;\n",
              "      cursor: pointer;\n",
              "      display: none;\n",
              "      fill: #1967D2;\n",
              "      height: 32px;\n",
              "      padding: 0 0 0 0;\n",
              "      width: 32px;\n",
              "    }\n",
              "\n",
              "    .colab-df-convert:hover {\n",
              "      background-color: #E2EBFA;\n",
              "      box-shadow: 0px 1px 2px rgba(60, 64, 67, 0.3), 0px 1px 3px 1px rgba(60, 64, 67, 0.15);\n",
              "      fill: #174EA6;\n",
              "    }\n",
              "\n",
              "    [theme=dark] .colab-df-convert {\n",
              "      background-color: #3B4455;\n",
              "      fill: #D2E3FC;\n",
              "    }\n",
              "\n",
              "    [theme=dark] .colab-df-convert:hover {\n",
              "      background-color: #434B5C;\n",
              "      box-shadow: 0px 1px 3px 1px rgba(0, 0, 0, 0.15);\n",
              "      filter: drop-shadow(0px 1px 2px rgba(0, 0, 0, 0.3));\n",
              "      fill: #FFFFFF;\n",
              "    }\n",
              "  </style>\n",
              "\n",
              "      <script>\n",
              "        const buttonEl =\n",
              "          document.querySelector('#df-13a4fed1-bdff-4d34-bc00-485586139001 button.colab-df-convert');\n",
              "        buttonEl.style.display =\n",
              "          google.colab.kernel.accessAllowed ? 'block' : 'none';\n",
              "\n",
              "        async function convertToInteractive(key) {\n",
              "          const element = document.querySelector('#df-13a4fed1-bdff-4d34-bc00-485586139001');\n",
              "          const dataTable =\n",
              "            await google.colab.kernel.invokeFunction('convertToInteractive',\n",
              "                                                     [key], {});\n",
              "          if (!dataTable) return;\n",
              "\n",
              "          const docLinkHtml = 'Like what you see? Visit the ' +\n",
              "            '<a target=\"_blank\" href=https://colab.research.google.com/notebooks/data_table.ipynb>data table notebook</a>'\n",
              "            + ' to learn more about interactive tables.';\n",
              "          element.innerHTML = '';\n",
              "          dataTable['output_type'] = 'display_data';\n",
              "          await google.colab.output.renderOutput(dataTable, element);\n",
              "          const docLink = document.createElement('div');\n",
              "          docLink.innerHTML = docLinkHtml;\n",
              "          element.appendChild(docLink);\n",
              "        }\n",
              "      </script>\n",
              "    </div>\n",
              "  </div>\n",
              "  "
            ]
          },
          "metadata": {},
          "execution_count": 6
        }
      ]
    },
    {
      "cell_type": "code",
      "source": [
        "X=data.drop(['Customer Name', 'Customer e-mail','Car Purchase Amount'],axis=1)\n",
        "Y=data['Car Purchase Amount']"
      ],
      "metadata": {
        "id": "6kGrOcS_4mf6"
      },
      "execution_count": null,
      "outputs": []
    },
    {
      "cell_type": "code",
      "source": [
        "from sklearn.preprocessing import LabelEncoder\n",
        "en=LabelEncoder()\n",
        "X['Country'] = en.fit_transform(X['Country'])\n",
        "X\n"
      ],
      "metadata": {
        "colab": {
          "base_uri": "https://localhost:8080/",
          "height": 423
        },
        "id": "7qlmWXIFly8r",
        "outputId": "fa3bf5dd-06ac-4eb8-94af-406a694cd161"
      },
      "execution_count": null,
      "outputs": [
        {
          "output_type": "execute_result",
          "data": {
            "text/plain": [
              "     Country  Gender        Age  Annual Salary  Credit Card Debt    Net Worth\n",
              "0         27       0  41.851720    62812.09301      11609.380910  238961.2505\n",
              "1         17       0  40.870623    66646.89292       9572.957136  530973.9078\n",
              "2          1       1  43.152897    53798.55112      11160.355060  638467.1773\n",
              "3         41       1  58.271369    79370.03798      14426.164850  548599.0524\n",
              "4         26       1  57.313749    59729.15130       5358.712177  560304.0671\n",
              "..       ...     ...        ...            ...               ...          ...\n",
              "495      128       0  41.462515    71942.40291       6995.902524  541670.1016\n",
              "496      208       1  37.642000    56039.49793      12301.456790  360419.0988\n",
              "497      144       1  53.943497    68888.77805      10611.606860  764531.3203\n",
              "498       24       1  59.160509    49811.99062      14013.034510  337826.6382\n",
              "499      209       1  46.731152    61370.67766       9391.341628  462946.4924\n",
              "\n",
              "[500 rows x 6 columns]"
            ],
            "text/html": [
              "\n",
              "  <div id=\"df-81299e79-905a-4a1e-9a9e-a57c46da3c71\">\n",
              "    <div class=\"colab-df-container\">\n",
              "      <div>\n",
              "<style scoped>\n",
              "    .dataframe tbody tr th:only-of-type {\n",
              "        vertical-align: middle;\n",
              "    }\n",
              "\n",
              "    .dataframe tbody tr th {\n",
              "        vertical-align: top;\n",
              "    }\n",
              "\n",
              "    .dataframe thead th {\n",
              "        text-align: right;\n",
              "    }\n",
              "</style>\n",
              "<table border=\"1\" class=\"dataframe\">\n",
              "  <thead>\n",
              "    <tr style=\"text-align: right;\">\n",
              "      <th></th>\n",
              "      <th>Country</th>\n",
              "      <th>Gender</th>\n",
              "      <th>Age</th>\n",
              "      <th>Annual Salary</th>\n",
              "      <th>Credit Card Debt</th>\n",
              "      <th>Net Worth</th>\n",
              "    </tr>\n",
              "  </thead>\n",
              "  <tbody>\n",
              "    <tr>\n",
              "      <th>0</th>\n",
              "      <td>27</td>\n",
              "      <td>0</td>\n",
              "      <td>41.851720</td>\n",
              "      <td>62812.09301</td>\n",
              "      <td>11609.380910</td>\n",
              "      <td>238961.2505</td>\n",
              "    </tr>\n",
              "    <tr>\n",
              "      <th>1</th>\n",
              "      <td>17</td>\n",
              "      <td>0</td>\n",
              "      <td>40.870623</td>\n",
              "      <td>66646.89292</td>\n",
              "      <td>9572.957136</td>\n",
              "      <td>530973.9078</td>\n",
              "    </tr>\n",
              "    <tr>\n",
              "      <th>2</th>\n",
              "      <td>1</td>\n",
              "      <td>1</td>\n",
              "      <td>43.152897</td>\n",
              "      <td>53798.55112</td>\n",
              "      <td>11160.355060</td>\n",
              "      <td>638467.1773</td>\n",
              "    </tr>\n",
              "    <tr>\n",
              "      <th>3</th>\n",
              "      <td>41</td>\n",
              "      <td>1</td>\n",
              "      <td>58.271369</td>\n",
              "      <td>79370.03798</td>\n",
              "      <td>14426.164850</td>\n",
              "      <td>548599.0524</td>\n",
              "    </tr>\n",
              "    <tr>\n",
              "      <th>4</th>\n",
              "      <td>26</td>\n",
              "      <td>1</td>\n",
              "      <td>57.313749</td>\n",
              "      <td>59729.15130</td>\n",
              "      <td>5358.712177</td>\n",
              "      <td>560304.0671</td>\n",
              "    </tr>\n",
              "    <tr>\n",
              "      <th>...</th>\n",
              "      <td>...</td>\n",
              "      <td>...</td>\n",
              "      <td>...</td>\n",
              "      <td>...</td>\n",
              "      <td>...</td>\n",
              "      <td>...</td>\n",
              "    </tr>\n",
              "    <tr>\n",
              "      <th>495</th>\n",
              "      <td>128</td>\n",
              "      <td>0</td>\n",
              "      <td>41.462515</td>\n",
              "      <td>71942.40291</td>\n",
              "      <td>6995.902524</td>\n",
              "      <td>541670.1016</td>\n",
              "    </tr>\n",
              "    <tr>\n",
              "      <th>496</th>\n",
              "      <td>208</td>\n",
              "      <td>1</td>\n",
              "      <td>37.642000</td>\n",
              "      <td>56039.49793</td>\n",
              "      <td>12301.456790</td>\n",
              "      <td>360419.0988</td>\n",
              "    </tr>\n",
              "    <tr>\n",
              "      <th>497</th>\n",
              "      <td>144</td>\n",
              "      <td>1</td>\n",
              "      <td>53.943497</td>\n",
              "      <td>68888.77805</td>\n",
              "      <td>10611.606860</td>\n",
              "      <td>764531.3203</td>\n",
              "    </tr>\n",
              "    <tr>\n",
              "      <th>498</th>\n",
              "      <td>24</td>\n",
              "      <td>1</td>\n",
              "      <td>59.160509</td>\n",
              "      <td>49811.99062</td>\n",
              "      <td>14013.034510</td>\n",
              "      <td>337826.6382</td>\n",
              "    </tr>\n",
              "    <tr>\n",
              "      <th>499</th>\n",
              "      <td>209</td>\n",
              "      <td>1</td>\n",
              "      <td>46.731152</td>\n",
              "      <td>61370.67766</td>\n",
              "      <td>9391.341628</td>\n",
              "      <td>462946.4924</td>\n",
              "    </tr>\n",
              "  </tbody>\n",
              "</table>\n",
              "<p>500 rows × 6 columns</p>\n",
              "</div>\n",
              "      <button class=\"colab-df-convert\" onclick=\"convertToInteractive('df-81299e79-905a-4a1e-9a9e-a57c46da3c71')\"\n",
              "              title=\"Convert this dataframe to an interactive table.\"\n",
              "              style=\"display:none;\">\n",
              "        \n",
              "  <svg xmlns=\"http://www.w3.org/2000/svg\" height=\"24px\"viewBox=\"0 0 24 24\"\n",
              "       width=\"24px\">\n",
              "    <path d=\"M0 0h24v24H0V0z\" fill=\"none\"/>\n",
              "    <path d=\"M18.56 5.44l.94 2.06.94-2.06 2.06-.94-2.06-.94-.94-2.06-.94 2.06-2.06.94zm-11 1L8.5 8.5l.94-2.06 2.06-.94-2.06-.94L8.5 2.5l-.94 2.06-2.06.94zm10 10l.94 2.06.94-2.06 2.06-.94-2.06-.94-.94-2.06-.94 2.06-2.06.94z\"/><path d=\"M17.41 7.96l-1.37-1.37c-.4-.4-.92-.59-1.43-.59-.52 0-1.04.2-1.43.59L10.3 9.45l-7.72 7.72c-.78.78-.78 2.05 0 2.83L4 21.41c.39.39.9.59 1.41.59.51 0 1.02-.2 1.41-.59l7.78-7.78 2.81-2.81c.8-.78.8-2.07 0-2.86zM5.41 20L4 18.59l7.72-7.72 1.47 1.35L5.41 20z\"/>\n",
              "  </svg>\n",
              "      </button>\n",
              "      \n",
              "  <style>\n",
              "    .colab-df-container {\n",
              "      display:flex;\n",
              "      flex-wrap:wrap;\n",
              "      gap: 12px;\n",
              "    }\n",
              "\n",
              "    .colab-df-convert {\n",
              "      background-color: #E8F0FE;\n",
              "      border: none;\n",
              "      border-radius: 50%;\n",
              "      cursor: pointer;\n",
              "      display: none;\n",
              "      fill: #1967D2;\n",
              "      height: 32px;\n",
              "      padding: 0 0 0 0;\n",
              "      width: 32px;\n",
              "    }\n",
              "\n",
              "    .colab-df-convert:hover {\n",
              "      background-color: #E2EBFA;\n",
              "      box-shadow: 0px 1px 2px rgba(60, 64, 67, 0.3), 0px 1px 3px 1px rgba(60, 64, 67, 0.15);\n",
              "      fill: #174EA6;\n",
              "    }\n",
              "\n",
              "    [theme=dark] .colab-df-convert {\n",
              "      background-color: #3B4455;\n",
              "      fill: #D2E3FC;\n",
              "    }\n",
              "\n",
              "    [theme=dark] .colab-df-convert:hover {\n",
              "      background-color: #434B5C;\n",
              "      box-shadow: 0px 1px 3px 1px rgba(0, 0, 0, 0.15);\n",
              "      filter: drop-shadow(0px 1px 2px rgba(0, 0, 0, 0.3));\n",
              "      fill: #FFFFFF;\n",
              "    }\n",
              "  </style>\n",
              "\n",
              "      <script>\n",
              "        const buttonEl =\n",
              "          document.querySelector('#df-81299e79-905a-4a1e-9a9e-a57c46da3c71 button.colab-df-convert');\n",
              "        buttonEl.style.display =\n",
              "          google.colab.kernel.accessAllowed ? 'block' : 'none';\n",
              "\n",
              "        async function convertToInteractive(key) {\n",
              "          const element = document.querySelector('#df-81299e79-905a-4a1e-9a9e-a57c46da3c71');\n",
              "          const dataTable =\n",
              "            await google.colab.kernel.invokeFunction('convertToInteractive',\n",
              "                                                     [key], {});\n",
              "          if (!dataTable) return;\n",
              "\n",
              "          const docLinkHtml = 'Like what you see? Visit the ' +\n",
              "            '<a target=\"_blank\" href=https://colab.research.google.com/notebooks/data_table.ipynb>data table notebook</a>'\n",
              "            + ' to learn more about interactive tables.';\n",
              "          element.innerHTML = '';\n",
              "          dataTable['output_type'] = 'display_data';\n",
              "          await google.colab.output.renderOutput(dataTable, element);\n",
              "          const docLink = document.createElement('div');\n",
              "          docLink.innerHTML = docLinkHtml;\n",
              "          element.appendChild(docLink);\n",
              "        }\n",
              "      </script>\n",
              "    </div>\n",
              "  </div>\n",
              "  "
            ]
          },
          "metadata": {},
          "execution_count": 17
        }
      ]
    },
    {
      "cell_type": "code",
      "source": [
        "from sklearn.preprocessing import StandardScaler\n",
        "sc=StandardScaler()\n",
        "X=sc.fit_transform(X)\n",
        "X"
      ],
      "metadata": {
        "colab": {
          "base_uri": "https://localhost:8080/"
        },
        "id": "8BUXARd9mwyS",
        "outputId": "8ff8d83b-7c68-42c0-ed73-70ad6165b061"
      },
      "execution_count": null,
      "outputs": [
        {
          "output_type": "execute_result",
          "data": {
            "text/plain": [
              "array([[-1.25451191, -1.01207287, -0.55074911,  0.05857619,  0.57427133,\n",
              "        -1.11046945],\n",
              "       [-1.42027285, -1.01207287, -0.67383422,  0.38657041, -0.0099515 ,\n",
              "         0.57392937],\n",
              "       [-1.68549034,  0.98807114, -0.38750768, -0.71236095,  0.4454518 ,\n",
              "         1.19397625],\n",
              "       ...,\n",
              "       [ 0.68489103,  0.98807114,  0.96624515,  0.57832106,  0.28802326,\n",
              "         1.92114437],\n",
              "       [-1.30424019,  0.98807114,  1.62075409, -1.05333541,  1.26384749,\n",
              "        -0.54019026],\n",
              "       [ 1.76233711,  0.98807114,  0.06140832, -0.06470949, -0.06205457,\n",
              "         0.18153098]])"
            ]
          },
          "metadata": {},
          "execution_count": 18
        }
      ]
    },
    {
      "cell_type": "code",
      "source": [
        "from sklearn.model_selection import train_test_split\n",
        "xtrain,xtest,ytrain,ytst=train_test_split(X, Y, random_state=0)"
      ],
      "metadata": {
        "id": "tSErwwwimxKN"
      },
      "execution_count": null,
      "outputs": []
    },
    {
      "cell_type": "code",
      "source": [
        "model = Sequential()\n",
        "model.add(Dense(6,activation='relu',input_dim=6))\n",
        "model.add(Dense(20,activation='relu'))\n",
        "model.add(Dense(50, activation='relu'))\n",
        "model.add(Dense(1,activation='linear'))\n",
        "model.summary()\n",
        "model.compile(optimizer=tf.keras.optimizers.Adam(learning_rate=0.01), \n",
        "              metrics=[r2_score],\n",
        "              loss='mean_squared_error', run_eagerly=True)"
      ],
      "metadata": {
        "colab": {
          "base_uri": "https://localhost:8080/"
        },
        "id": "qEvWC2ikmxNe",
        "outputId": "c4715f6e-e989-43f4-8bfb-24faa74fc57e"
      },
      "execution_count": null,
      "outputs": [
        {
          "output_type": "stream",
          "name": "stdout",
          "text": [
            "Model: \"sequential_3\"\n",
            "_________________________________________________________________\n",
            " Layer (type)                Output Shape              Param #   \n",
            "=================================================================\n",
            " dense_12 (Dense)            (None, 6)                 42        \n",
            "                                                                 \n",
            " dense_13 (Dense)            (None, 20)                140       \n",
            "                                                                 \n",
            " dense_14 (Dense)            (None, 50)                1050      \n",
            "                                                                 \n",
            " dense_15 (Dense)            (None, 1)                 51        \n",
            "                                                                 \n",
            "=================================================================\n",
            "Total params: 1,283\n",
            "Trainable params: 1,283\n",
            "Non-trainable params: 0\n",
            "_________________________________________________________________\n"
          ]
        }
      ]
    },
    {
      "cell_type": "code",
      "source": [
        "from sklearn.metrics import r2_score"
      ],
      "metadata": {
        "id": "CsyI3bnspSGE"
      },
      "execution_count": null,
      "outputs": []
    },
    {
      "cell_type": "code",
      "source": [
        "hist=model.fit(xtrain,ytrain,epochs=50, validation_split=0.2, batch_size=32)"
      ],
      "metadata": {
        "colab": {
          "base_uri": "https://localhost:8080/"
        },
        "id": "zNX5M5_Ype4b",
        "outputId": "371bdafd-f709-48b8-a1ec-a90046c6cd6a"
      },
      "execution_count": null,
      "outputs": [
        {
          "output_type": "stream",
          "name": "stdout",
          "text": [
            "Epoch 1/50\n",
            "10/10 [==============================] - 1s 67ms/step - loss: 7284170.0000 - r2_score: 0.9298 - val_loss: 9856424.0000 - val_r2_score: 0.9187\n",
            "Epoch 2/50\n",
            "10/10 [==============================] - 1s 57ms/step - loss: 7181540.0000 - r2_score: 0.9313 - val_loss: 8793216.0000 - val_r2_score: 0.9250\n",
            "Epoch 3/50\n",
            "10/10 [==============================] - 1s 55ms/step - loss: 6833826.5000 - r2_score: 0.9356 - val_loss: 9201524.0000 - val_r2_score: 0.9231\n",
            "Epoch 4/50\n",
            "10/10 [==============================] - 1s 58ms/step - loss: 6679148.5000 - r2_score: 0.9366 - val_loss: 9009795.0000 - val_r2_score: 0.9253\n",
            "Epoch 5/50\n",
            "10/10 [==============================] - 1s 54ms/step - loss: 6457729.0000 - r2_score: 0.9395 - val_loss: 7950484.5000 - val_r2_score: 0.9318\n",
            "Epoch 6/50\n",
            "10/10 [==============================] - 1s 62ms/step - loss: 6284783.5000 - r2_score: 0.9398 - val_loss: 7920713.5000 - val_r2_score: 0.9324\n",
            "Epoch 7/50\n",
            "10/10 [==============================] - 1s 60ms/step - loss: 6101463.0000 - r2_score: 0.9432 - val_loss: 7771597.5000 - val_r2_score: 0.9342\n",
            "Epoch 8/50\n",
            "10/10 [==============================] - 1s 58ms/step - loss: 5918401.5000 - r2_score: 0.9433 - val_loss: 7297286.0000 - val_r2_score: 0.9377\n",
            "Epoch 9/50\n",
            "10/10 [==============================] - 1s 55ms/step - loss: 5787742.5000 - r2_score: 0.9429 - val_loss: 7068156.5000 - val_r2_score: 0.9392\n",
            "Epoch 10/50\n",
            "10/10 [==============================] - 1s 60ms/step - loss: 5590234.5000 - r2_score: 0.9376 - val_loss: 6883816.5000 - val_r2_score: 0.9403\n",
            "Epoch 11/50\n",
            "10/10 [==============================] - 1s 56ms/step - loss: 5475457.5000 - r2_score: 0.9290 - val_loss: 6658562.0000 - val_r2_score: 0.9417\n",
            "Epoch 12/50\n",
            "10/10 [==============================] - 1s 99ms/step - loss: 5411972.5000 - r2_score: 0.9503 - val_loss: 6438501.5000 - val_r2_score: 0.9439\n",
            "Epoch 13/50\n",
            "10/10 [==============================] - 1s 104ms/step - loss: 5201575.5000 - r2_score: 0.9516 - val_loss: 5959369.0000 - val_r2_score: 0.9470\n",
            "Epoch 14/50\n",
            "10/10 [==============================] - 1s 106ms/step - loss: 5072593.0000 - r2_score: 0.9491 - val_loss: 5866087.5000 - val_r2_score: 0.9478\n",
            "Epoch 15/50\n",
            "10/10 [==============================] - 1s 76ms/step - loss: 4959356.0000 - r2_score: 0.9526 - val_loss: 5746609.0000 - val_r2_score: 0.9489\n",
            "Epoch 16/50\n",
            "10/10 [==============================] - 1s 55ms/step - loss: 4787587.5000 - r2_score: 0.9533 - val_loss: 5850961.0000 - val_r2_score: 0.9486\n",
            "Epoch 17/50\n",
            "10/10 [==============================] - 1s 59ms/step - loss: 4704018.0000 - r2_score: 0.9571 - val_loss: 5460449.5000 - val_r2_score: 0.9514\n",
            "Epoch 18/50\n",
            "10/10 [==============================] - 1s 60ms/step - loss: 4568683.0000 - r2_score: 0.9543 - val_loss: 5185726.0000 - val_r2_score: 0.9534\n",
            "Epoch 19/50\n",
            "10/10 [==============================] - 1s 61ms/step - loss: 4467212.0000 - r2_score: 0.9582 - val_loss: 5005946.0000 - val_r2_score: 0.9547\n",
            "Epoch 20/50\n",
            "10/10 [==============================] - 1s 60ms/step - loss: 4404545.0000 - r2_score: 0.9588 - val_loss: 4891506.5000 - val_r2_score: 0.9557\n",
            "Epoch 21/50\n",
            "10/10 [==============================] - 1s 57ms/step - loss: 4340810.0000 - r2_score: 0.9605 - val_loss: 4513732.5000 - val_r2_score: 0.9575\n",
            "Epoch 22/50\n",
            "10/10 [==============================] - 1s 56ms/step - loss: 4179120.7500 - r2_score: 0.9591 - val_loss: 4780201.5000 - val_r2_score: 0.9561\n",
            "Epoch 23/50\n",
            "10/10 [==============================] - 1s 61ms/step - loss: 4112683.5000 - r2_score: 0.9579 - val_loss: 4551114.5000 - val_r2_score: 0.9578\n",
            "Epoch 24/50\n",
            "10/10 [==============================] - 1s 57ms/step - loss: 4017964.0000 - r2_score: 0.9586 - val_loss: 4536116.5000 - val_r2_score: 0.9579\n",
            "Epoch 25/50\n",
            "10/10 [==============================] - 1s 63ms/step - loss: 3897690.0000 - r2_score: 0.9469 - val_loss: 4436041.5000 - val_r2_score: 0.9590\n",
            "Epoch 26/50\n",
            "10/10 [==============================] - 1s 62ms/step - loss: 3794826.2500 - r2_score: 0.9640 - val_loss: 4275570.0000 - val_r2_score: 0.9605\n",
            "Epoch 27/50\n",
            "10/10 [==============================] - 1s 61ms/step - loss: 3698440.0000 - r2_score: 0.9624 - val_loss: 3971088.2500 - val_r2_score: 0.9623\n",
            "Epoch 28/50\n",
            "10/10 [==============================] - 1s 60ms/step - loss: 3614715.0000 - r2_score: 0.9647 - val_loss: 3992535.5000 - val_r2_score: 0.9624\n",
            "Epoch 29/50\n",
            "10/10 [==============================] - 1s 59ms/step - loss: 3552157.0000 - r2_score: 0.9653 - val_loss: 3887622.0000 - val_r2_score: 0.9635\n",
            "Epoch 30/50\n",
            "10/10 [==============================] - 1s 62ms/step - loss: 3422076.2500 - r2_score: 0.9673 - val_loss: 3703969.2500 - val_r2_score: 0.9646\n",
            "Epoch 31/50\n",
            "10/10 [==============================] - 1s 53ms/step - loss: 3347706.0000 - r2_score: 0.9701 - val_loss: 3763529.0000 - val_r2_score: 0.9644\n",
            "Epoch 32/50\n",
            "10/10 [==============================] - 1s 80ms/step - loss: 3312019.7500 - r2_score: 0.9695 - val_loss: 3717683.7500 - val_r2_score: 0.9650\n",
            "Epoch 33/50\n",
            "10/10 [==============================] - 1s 87ms/step - loss: 3188100.5000 - r2_score: 0.9692 - val_loss: 3417964.7500 - val_r2_score: 0.9667\n",
            "Epoch 34/50\n",
            "10/10 [==============================] - 1s 106ms/step - loss: 3124808.7500 - r2_score: 0.9688 - val_loss: 3455206.5000 - val_r2_score: 0.9670\n",
            "Epoch 35/50\n",
            "10/10 [==============================] - 1s 103ms/step - loss: 3040668.5000 - r2_score: 0.9716 - val_loss: 3255484.2500 - val_r2_score: 0.9681\n",
            "Epoch 36/50\n",
            "10/10 [==============================] - 1s 63ms/step - loss: 2999698.7500 - r2_score: 0.9714 - val_loss: 3320838.0000 - val_r2_score: 0.9682\n",
            "Epoch 37/50\n",
            "10/10 [==============================] - 1s 56ms/step - loss: 2960729.0000 - r2_score: 0.9724 - val_loss: 3450188.5000 - val_r2_score: 0.9680\n",
            "Epoch 38/50\n",
            "10/10 [==============================] - 1s 118ms/step - loss: 2848916.0000 - r2_score: 0.9722 - val_loss: 2973033.2500 - val_r2_score: 0.9707\n",
            "Epoch 39/50\n",
            "10/10 [==============================] - 1s 58ms/step - loss: 2750014.7500 - r2_score: 0.9740 - val_loss: 3107923.7500 - val_r2_score: 0.9703\n",
            "Epoch 40/50\n",
            "10/10 [==============================] - 1s 61ms/step - loss: 2802559.7500 - r2_score: 0.9749 - val_loss: 3141491.2500 - val_r2_score: 0.9699\n",
            "Epoch 41/50\n",
            "10/10 [==============================] - 1s 58ms/step - loss: 2629871.5000 - r2_score: 0.9743 - val_loss: 2841261.2500 - val_r2_score: 0.9723\n",
            "Epoch 42/50\n",
            "10/10 [==============================] - 1s 57ms/step - loss: 2635611.0000 - r2_score: 0.9752 - val_loss: 2878006.7500 - val_r2_score: 0.9720\n",
            "Epoch 43/50\n",
            "10/10 [==============================] - 1s 56ms/step - loss: 2538529.7500 - r2_score: 0.9755 - val_loss: 3279627.5000 - val_r2_score: 0.9696\n",
            "Epoch 44/50\n",
            "10/10 [==============================] - 1s 56ms/step - loss: 2516699.2500 - r2_score: 0.9770 - val_loss: 2855223.5000 - val_r2_score: 0.9726\n",
            "Epoch 45/50\n",
            "10/10 [==============================] - 1s 56ms/step - loss: 2465476.5000 - r2_score: 0.9778 - val_loss: 2502192.7500 - val_r2_score: 0.9748\n",
            "Epoch 46/50\n",
            "10/10 [==============================] - 1s 64ms/step - loss: 2420148.5000 - r2_score: 0.9768 - val_loss: 2683251.5000 - val_r2_score: 0.9742\n",
            "Epoch 47/50\n",
            "10/10 [==============================] - 1s 61ms/step - loss: 2321887.0000 - r2_score: 0.9774 - val_loss: 2487844.7500 - val_r2_score: 0.9752\n",
            "Epoch 48/50\n",
            "10/10 [==============================] - 1s 63ms/step - loss: 2286939.2500 - r2_score: 0.9781 - val_loss: 2670904.7500 - val_r2_score: 0.9744\n",
            "Epoch 49/50\n",
            "10/10 [==============================] - 1s 61ms/step - loss: 2242263.0000 - r2_score: 0.9795 - val_loss: 2736418.2500 - val_r2_score: 0.9742\n",
            "Epoch 50/50\n",
            "10/10 [==============================] - 1s 58ms/step - loss: 2193365.2500 - r2_score: 0.9779 - val_loss: 2524879.2500 - val_r2_score: 0.9756\n"
          ]
        }
      ]
    },
    {
      "cell_type": "code",
      "source": [
        "hist.history.keys()"
      ],
      "metadata": {
        "colab": {
          "base_uri": "https://localhost:8080/"
        },
        "id": "v1lJEfKtrs2t",
        "outputId": "20446147-7773-4ca5-d2d8-713a0adb6f34"
      },
      "execution_count": null,
      "outputs": [
        {
          "output_type": "execute_result",
          "data": {
            "text/plain": [
              "dict_keys(['loss', 'r2_score', 'val_loss', 'val_r2_score'])"
            ]
          },
          "metadata": {},
          "execution_count": 26
        }
      ]
    },
    {
      "cell_type": "code",
      "source": [
        "plt.plot(hist.history['loss'], label='Training Loss')\n",
        "plt.plot(hist.history['val_loss'], label='Validation Loss')\n",
        "plt.xlabel('epoches')\n",
        "plt.ylabel('Loss')\n",
        "plt.legend()"
      ],
      "metadata": {
        "colab": {
          "base_uri": "https://localhost:8080/",
          "height": 308
        },
        "id": "ALkciBFZrs6E",
        "outputId": "440f500a-0900-418a-d651-04d18abb4707"
      },
      "execution_count": null,
      "outputs": [
        {
          "output_type": "execute_result",
          "data": {
            "text/plain": [
              "<matplotlib.legend.Legend at 0x7febfb45b280>"
            ]
          },
          "metadata": {},
          "execution_count": 27
        },
        {
          "output_type": "display_data",
          "data": {
            "text/plain": [
              "<Figure size 432x288 with 1 Axes>"
            ],
            "image/png": "[encoded data removed]"
          },
          "metadata": {
            "needs_background": "light"
          }
        }
      ]
    },
    {
      "cell_type": "code",
      "source": [
        "ypred=model.predict(xtest)"
      ],
      "metadata": {
        "colab": {
          "base_uri": "https://localhost:8080/"
        },
        "id": "NK_OUmb-ssK0",
        "outputId": "b31d0b46-ad1e-4128-e48a-9134fd9e7b81"
      },
      "execution_count": null,
      "outputs": [
        {
          "output_type": "stream",
          "name": "stdout",
          "text": [
            "4/4 [==============================] - 0s 4ms/step\n"
          ]
        }
      ]
    },
    {
      "cell_type": "code",
      "source": [
        "r2_score(ytst,ypred)"
      ],
      "metadata": {
        "colab": {
          "base_uri": "https://localhost:8080/"
        },
        "id": "QdSmWjeCsyXf",
        "outputId": "a43c0ba7-88c0-42d6-aeb4-e352c283a754"
      },
      "execution_count": null,
      "outputs": [
        {
          "output_type": "execute_result",
          "data": {
            "text/plain": [
              "0.9748403179701655"
            ]
          },
          "metadata": {},
          "execution_count": 31
        }
      ]
    },
    {
      "cell_type": "code",
      "source": [],
      "metadata": {
        "id": "Pr3M_IuNsysB"
      },
      "execution_count": null,
      "outputs": []
    }
  ]
}